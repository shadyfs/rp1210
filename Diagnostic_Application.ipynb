{
 "cells": [
  {
   "cell_type": "markdown",
   "id": "9a139d96",
   "metadata": {},
   "source": [
    "# Diagnostic Application (Client)\n",
    "\n",
    "This notebook simulates a **user-level diagnostic tool** that requests the Vehicle Identification Number (VIN) over a network.\n",
    "\n",
    "- It opens a TCP connection to a server on `localhost:1337`\n",
    "- It sends a `VIN_REQUEST`\n",
    "- It prints the VIN received from the server\n",
    "\n",
    "> 📌 Note: This notebook does **not** talk to the CAN bus directly."
   ]
  },
  {
   "cell_type": "code",
   "execution_count": null,
   "id": "6c9007f4",
   "metadata": {},
   "outputs": [],
   "source": [
    "import socket\n",
    "\n",
    "# Function to send a VIN request and print the response\n",
    "def user_request_vin():\n",
    "    # Create a TCP socket using IPv4\n",
    "    with socket.socket(socket.AF_INET, socket.SOCK_STREAM) as s:\n",
    "        # Connect to the server at localhost on port 1337\n",
    "        s.connect((\"localhost\", 1337))  # This is where the shim or real server listens\n",
    "        # Send the request for VIN\n",
    "        s.sendall(b\"VIN_REQUEST\")\n",
    "        # Receive and decode the response (VIN)\n",
    "        vin = s.recv(1024).decode()\n",
    "        print(f\"[Client] Received VIN: {vin}\")\n",
    "\n",
    "# Run the function to see the VIN response\n",
    "user_request_vin()"
   ]
  },
  {
   "cell_type": "code",
   "execution_count": null,
   "id": "a6ea789e",
   "metadata": {},
   "outputs": [],
   "source": []
  }
 ],
 "metadata": {
  "kernelspec": {
   "display_name": "Python 3",
   "language": "python",
   "name": "python3"
  },
  "language_info": {
   "codemirror_mode": {
    "name": "ipython",
    "version": 3
   },
   "file_extension": ".py",
   "mimetype": "text/x-python",
   "name": "python",
   "nbconvert_exporter": "python",
   "pygments_lexer": "ipython3",
   "version": "3.11.9"
  }
 },
 "nbformat": 4,
 "nbformat_minor": 5
}
