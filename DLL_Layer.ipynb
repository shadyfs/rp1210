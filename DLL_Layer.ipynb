{
 "cells": [
  {
   "cell_type": "markdown",
   "id": "c3de15ed",
   "metadata": {},
   "source": [
    "# DLL Layer: ActualDLL and ShimDLL\n",
    "\n",
    "This notebook simulates the **middleware layer** in a vehicle diagnostic architecture.\n",
    "\n",
    "It contains two components:\n",
    "- **ActualDLL**: Talks directly to the VDA and retrieves the real VIN.\n",
    "- **ShimDLL**: Intercepts communication between the diagnostic application and ActualDLL, modifies the VIN, and returns a fake one.\n",
    "\n",
    "We use threading to start both servers in the background so they can accept incoming TCP connections."
   ]
  },
  {
   "cell_type": "code",
   "execution_count": null,
   "id": "a6e9bc01",
   "metadata": {},
   "outputs": [],
   "source": [
    "import socket\n",
    "import threading\n",
    "\n",
    "try:\n",
    "    import nbformat\n",
    "except ImportError:\n",
    "    print(\"Installing nbformat...\")\n",
    "    !pip install nbformat\n",
    "\n",
    "# Load CAN-layer functions from another notebook\n",
    "%run ./VDA.ipynb"
   ]
  },
  {
   "cell_type": "markdown",
   "id": "39986fc5",
   "metadata": {},
   "source": [
    "## Configuration\n",
    "\n",
    "We use two different ports:\n",
    "- Port `1337` is where the diagnostic application always connects.\n",
    "- Port `1555` is used by the ActualDLL only when the shim is present.\n",
    "\n",
    "By toggling the `USE_PORT_FOR_SHIM_MODE` flag, we control whether the ActualDLL listens on the shim's backend port or directly on the application port."
   ]
  },
  {
   "cell_type": "code",
   "execution_count": null,
   "id": "9cefdc29",
   "metadata": {},
   "outputs": [],
   "source": [
    "USE_PORT_FOR_SHIM_MODE = False  # Set to False to run without shim\n",
    "\n",
    "PORT = 1555 if USE_PORT_FOR_SHIM_MODE else 1337\n",
    "\n",
    "# This server simulates the actual DLL that talks to CAN\n",
    "def actualdll_socket_server():\n",
    "    tcp_sock = socket.socket(socket.AF_INET, socket.SOCK_STREAM)\n",
    "    tcp_sock.setsockopt(socket.SOL_SOCKET, socket.SO_REUSEADDR, 1) \n",
    "    tcp_sock.bind((\"localhost\", PORT))  # Port depends on mode\n",
    "    tcp_sock.listen(1)\n",
    "    print(f\"[ActualDLL] Listening on port {PORT}...\")\n",
    "\n",
    "    conn, _ = tcp_sock.accept()\n",
    "    with conn:\n",
    "        req = conn.recv(1024).decode()\n",
    "        if req == \"VIN_REQUEST\":\n",
    "            vin = get_vin_from_can()  # From vda.ipynb\n",
    "            print(f\"[ActualDLL] Real VIN: {vin}\")\n",
    "            conn.sendall(vin.encode())\n",
    "    tcp_sock.close()\n",
    "\n",
    "# Start the actual DLL server in the background\n",
    "actual_dll_start = threading.Thread(target=actualdll_socket_server, daemon=True)\n",
    "actual_dll_start.start()"
   ]
  },
  {
   "cell_type": "code",
   "execution_count": null,
   "id": "48303d63",
   "metadata": {},
   "outputs": [],
   "source": [
    "actual_dll_start.join()"
   ]
  },
  {
   "cell_type": "markdown",
   "id": "e4ea6d37",
   "metadata": {},
   "source": [
    "## ShimDLL: Intercepting and Modifying the VIN\n",
    "\n",
    "This component pretends to be the ActualDLL by listening on port `1337`, but internally forwards requests to the real ActualDLL (on port `1555`), modifies the result, and returns the fake VIN."
   ]
  },
  {
   "cell_type": "code",
   "execution_count": null,
   "id": "1aa44f08",
   "metadata": {},
   "outputs": [],
   "source": [
    "# This server intercepts the client's connection and modifies the VIN\n",
    "def shimdll_socket_server():\n",
    "    tcp_sock = socket.socket(socket.AF_INET, socket.SOCK_STREAM)\n",
    "    tcp_sock.setsockopt(socket.SOL_SOCKET, socket.SO_REUSEADDR, 1) \n",
    "    tcp_sock.bind((\"localhost\", 1337))  # Replaces actualdll on this port\n",
    "    tcp_sock.listen(1)\n",
    "    print(\"[ShimDLL] Intercepting requests on port 1337...\")\n",
    "\n",
    "    conn, _ = tcp_sock.accept()\n",
    "    with conn:\n",
    "        req = conn.recv(1024).decode()\n",
    "        if req == \"VIN_REQUEST\":\n",
    "            # Connect to actualdll behind the scenes\n",
    "            forward_sock = socket.socket(socket.AF_INET, socket.SOCK_STREAM)\n",
    "            forward_sock.connect((\"localhost\", 1555))\n",
    "            forward_sock.sendall(b\"VIN_REQUEST\")\n",
    "\n",
    "            # Receive real VIN\n",
    "            real_vin = forward_sock.recv(1024).decode()\n",
    "            print(f\"[ShimDLL] Real VIN: {real_vin}\")\n",
    "\n",
    "            # Modify VIN before sending it back\n",
    "            modified_vin = real_vin[:10] + \"HACKED123\"\n",
    "            print(f\"[ShimDLL] Sending Modified VIN: {modified_vin}\")\n",
    "            conn.sendall(modified_vin.encode())\n",
    "\n",
    "            forward_sock.close()\n",
    "    tcp_sock.close()\n",
    "\n",
    "# Start the shim DLL server in the background\n",
    "shim_thread = threading.Thread(target=shimdll_socket_server)\n",
    "shim_thread.start()"
   ]
  },
  {
   "cell_type": "code",
   "execution_count": null,
   "id": "b5b38e78",
   "metadata": {},
   "outputs": [],
   "source": [
    "shim_thread.join()"
   ]
  },
  {
   "cell_type": "markdown",
   "id": "2cb87768",
   "metadata": {},
   "source": [
    "## ✅ Summary\n",
    "\n",
    "You now have two background servers running:\n",
    "- `ActualDLL`: provides the real VIN from the CAN bus.\n",
    "- `ShimDLL`: modifies the VIN on the fly and sends it to the client.\n",
    "\n",
    "> Now, go back to the `Diagnostic_Application.ipynb` and re-run the cell.  \n",
    "> You'll see the **modified VIN** (e.g., ending in `HACKED123`) anything changed.\n",
    "\n",
    "This demonstrates how **middleware attacks** can be used to tamper with diagnostic communication in vehicles."
   ]
  },
  {
   "cell_type": "code",
   "execution_count": null,
   "id": "51065be3",
   "metadata": {},
   "outputs": [],
   "source": []
  }
 ],
 "metadata": {
  "kernelspec": {
   "display_name": "Python 3",
   "language": "python",
   "name": "python3"
  },
  "language_info": {
   "codemirror_mode": {
    "name": "ipython",
    "version": 3
   },
   "file_extension": ".py",
   "mimetype": "text/x-python",
   "name": "python",
   "nbconvert_exporter": "python",
   "pygments_lexer": "ipython3",
   "version": "3.11.9"
  }
 },
 "nbformat": 4,
 "nbformat_minor": 5
}
